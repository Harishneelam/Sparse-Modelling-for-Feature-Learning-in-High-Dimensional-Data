{
 "cells": [
  {
   "cell_type": "code",
   "execution_count": 63,
   "id": "e99d999a-277c-4bb6-b40d-f1d9659f7a3f",
   "metadata": {},
   "outputs": [],
   "source": [
    "import pandas as pd\n",
    "import numpy as np\n",
    "import seaborn as sns\n",
    "import matplotlib.pyplot as plt\n",
    "import os\n",
    "from glob import glob\n",
    "import cv2\n",
    "import pickle\n",
    "from sklearn.model_selection import train_test_split"
   ]
  },
  {
   "cell_type": "code",
   "execution_count": 64,
   "id": "631d1112-498e-452f-ba84-7f8829fed71d",
   "metadata": {},
   "outputs": [],
   "source": [
    "with open('Image_Data_256x256.pkl', 'rb') as file:\n",
    "    data = pickle.load(file)"
   ]
  },
  {
   "cell_type": "code",
   "execution_count": 65,
   "id": "0c3bf278-0af3-4ff5-8276-d527a0509497",
   "metadata": {},
   "outputs": [
    {
     "data": {
      "text/plain": [
       "4000"
      ]
     },
     "execution_count": 65,
     "metadata": {},
     "output_type": "execute_result"
    }
   ],
   "source": [
    "bbox_folder = 'archive/Bounding Boxes - YOLO Format - 1/Bounding Boxes - YOLO Format - 1'\n",
    "bb_paths = glob(os.path.join(bbox_folder,'*.txt'))\n",
    "len(bb_paths)"
   ]
  },
  {
   "cell_type": "code",
   "execution_count": 66,
   "id": "8699dc2c-1039-4bc3-9f1a-8ead3c5c8cec",
   "metadata": {},
   "outputs": [],
   "source": [
    "path = \"archive/Images - 1/Images - 1/\"\n",
    "image_paths = glob(os.path.join(path,'*.jpg'))\n",
    "\n",
    "bbox_folder = 'archive/Bounding Boxes - YOLO Format - 1/Bounding Boxes - YOLO Format - 1'\n",
    "bb_paths = glob(os.path.join(bbox_folder,'*.txt'))\n",
    "\n",
    "\n",
    "Image_data = []\n",
    "Label_data = []\n",
    "Image_path = []\n",
    "\n",
    "for i in bb_paths:\n",
    "    if os.path.exists(i):\n",
    "        if os.path.getsize(i) == 0:\n",
    "            Image_path.append(image_paths[bb_paths.index(i)])\n",
    "            Image_data.append(data[bb_paths.index(i)])\n",
    "            Label_data.append(0)\n",
    "        else:\n",
    "            Image_path.append(image_paths[bb_paths.index(i)])\n",
    "            Image_data.append(data[bb_paths.index(i)])\n",
    "            Label_data.append(1)"
   ]
  },
  {
   "cell_type": "code",
   "execution_count": 67,
   "id": "4812286b-c477-4315-b13c-152bfdd07b72",
   "metadata": {},
   "outputs": [],
   "source": [
    "df = pd.DataFrame({'Image': Image_data, 'Label': Label_data})"
   ]
  },
  {
   "cell_type": "code",
   "execution_count": 68,
   "id": "c8e6dbc0-142f-41a2-89da-cd114b96b19d",
   "metadata": {},
   "outputs": [
    {
     "name": "stdout",
     "output_type": "stream",
     "text": [
      "<class 'pandas.core.frame.DataFrame'>\n",
      "RangeIndex: 4000 entries, 0 to 3999\n",
      "Data columns (total 2 columns):\n",
      " #   Column  Non-Null Count  Dtype \n",
      "---  ------  --------------  ----- \n",
      " 0   Image   4000 non-null   object\n",
      " 1   Label   4000 non-null   int64 \n",
      "dtypes: int64(1), object(1)\n",
      "memory usage: 62.6+ KB\n"
     ]
    }
   ],
   "source": [
    "df.info()"
   ]
  },
  {
   "cell_type": "code",
   "execution_count": 69,
   "id": "beab3a9a-3d2f-4ae1-90ae-cbcc501d350c",
   "metadata": {},
   "outputs": [],
   "source": [
    "Train_df, Test_df = df.iloc[0:3200,:],df.iloc[3200:,:]"
   ]
  },
  {
   "cell_type": "code",
   "execution_count": 70,
   "id": "2e05e739-c618-423c-8723-64af29055d12",
   "metadata": {},
   "outputs": [
    {
     "data": {
      "text/plain": [
       "(array([0, 1]), array([ 311, 2889]))"
      ]
     },
     "execution_count": 70,
     "metadata": {},
     "output_type": "execute_result"
    }
   ],
   "source": [
    "np.unique(Train_df.Label, return_counts=True)"
   ]
  },
  {
   "cell_type": "code",
   "execution_count": 71,
   "id": "857e7ce4-15cf-4688-9481-eeaa4e01b03d",
   "metadata": {},
   "outputs": [
    {
     "data": {
      "text/plain": [
       "(array([0, 1]), array([ 77, 723]))"
      ]
     },
     "execution_count": 71,
     "metadata": {},
     "output_type": "execute_result"
    }
   ],
   "source": [
    "np.unique(Test_df.Label, return_counts=True)"
   ]
  },
  {
   "cell_type": "markdown",
   "id": "13f1057a-d965-40cc-9281-54c54a3028f2",
   "metadata": {},
   "source": [
    "## Duplicating the class with less samples in the Training data"
   ]
  },
  {
   "cell_type": "code",
   "execution_count": 72,
   "id": "205eb13d-f132-463e-a222-82970e4af0ba",
   "metadata": {},
   "outputs": [],
   "source": [
    "class_0 = Train_df[Train_df.Label==0]\n",
    "class_1 = Train_df[Train_df.Label==1]"
   ]
  },
  {
   "cell_type": "code",
   "execution_count": 73,
   "id": "ae36ad2b-75dd-4791-8502-40c02866d19e",
   "metadata": {},
   "outputs": [],
   "source": [
    "RS_Image = list(class_1.Image)\n",
    "RS_Label = list(class_1.Label)\n",
    "\n",
    "for i in range(3*len(class_0)):\n",
    "    k = np.random.randint(0,len(class_0), 1)[0]\n",
    "    RS_Image.append(class_0.Image.iloc[k])\n",
    "    RS_Label.append(class_0.Label.iloc[k])\n",
    "\n",
    "RS_Train_df = pd.DataFrame({'Image': RS_Image, 'Label': RS_Label})\n",
    "RS_Train_df = RS_Train_df.sample(frac=1)"
   ]
  },
  {
   "cell_type": "code",
   "execution_count": 74,
   "id": "b4ac524f-002d-46f8-a7cf-ee8ff02d0d44",
   "metadata": {},
   "outputs": [
    {
     "data": {
      "text/plain": [
       "(array([0, 1]), array([ 933, 2889]))"
      ]
     },
     "execution_count": 74,
     "metadata": {},
     "output_type": "execute_result"
    }
   ],
   "source": [
    "np.unique(RS_Train_df.Label, return_counts=True)"
   ]
  },
  {
   "cell_type": "code",
   "execution_count": 75,
   "id": "34aabadf-e1ff-463d-957d-23460bfe6140",
   "metadata": {},
   "outputs": [],
   "source": [
    "from tensorflow.keras.utils import to_categorical\n",
    "\n",
    "x_train = np.stack(RS_Train_df['Image'].values)\n",
    "y_train = to_categorical(np.stack(RS_Train_df['Label'].values), num_classes = 2)\n",
    "\n",
    "x_test = np.stack(Test_df['Image'].values)\n",
    "y_test = to_categorical(np.stack(Test_df['Label'].values), num_classes = 2)"
   ]
  },
  {
   "cell_type": "code",
   "execution_count": 76,
   "id": "e7565b42-05c5-44ca-887a-b308fd4bbfd7",
   "metadata": {},
   "outputs": [],
   "source": [
    "x_train = x_train.reshape(x_train.shape[0], *(256, 256, 3))\n",
    "x_test = x_test.reshape(x_test.shape[0], *(256, 256, 3))"
   ]
  },
  {
   "cell_type": "markdown",
   "id": "3ed3d7ee-fb48-4fc3-9bfa-205fce8e71ec",
   "metadata": {},
   "source": [
    "## VGG19"
   ]
  },
  {
   "cell_type": "code",
   "execution_count": 77,
   "id": "c2cb4c07-7a65-45ee-9668-884d40c654e7",
   "metadata": {},
   "outputs": [
    {
     "name": "stdout",
     "output_type": "stream",
     "text": [
      "Model: \"sequential_2\"\n",
      "_________________________________________________________________\n",
      " Layer (type)                Output Shape              Param #   \n",
      "=================================================================\n",
      " vgg19 (Functional)          (None, 8, 8, 512)         20024384  \n",
      "                                                                 \n",
      " flatten_2 (Flatten)         (None, 32768)             0         \n",
      "                                                                 \n",
      "=================================================================\n",
      "Total params: 20024384 (76.39 MB)\n",
      "Trainable params: 0 (0.00 Byte)\n",
      "Non-trainable params: 20024384 (76.39 MB)\n",
      "_________________________________________________________________\n"
     ]
    }
   ],
   "source": [
    "from tensorflow.keras.applications import VGG19\n",
    "from tensorflow.keras.models import Sequential\n",
    "from tensorflow.keras.layers import Dense, Flatten\n",
    "from tensorflow.keras.optimizers.legacy import Adam\n",
    "from tensorflow.keras.preprocessing.image import ImageDataGenerator\n",
    "\n",
    "from tensorflow.keras.layers import Flatten, Dense, BatchNormalization\n",
    "\n",
    "input_shape = (256, 256, 3)\n",
    "\n",
    "vgg19_model = VGG19(weights='imagenet', include_top=False, input_shape=input_shape)\n",
    "\n",
    "for layer in vgg19_model.layers:\n",
    "    layer.trainable = False\n",
    "\n",
    "model = Sequential()\n",
    "model.add(vgg19_model)\n",
    "model.add(Flatten())\n",
    "\n",
    "model.compile(optimizer=Adam(learning_rate=0.0001), loss='binary_crossentropy', metrics=['accuracy'])\n",
    "\n",
    "model.summary()"
   ]
  },
  {
   "cell_type": "code",
   "execution_count": 78,
   "id": "12080a5e-c573-4600-9037-96916c48771d",
   "metadata": {},
   "outputs": [
    {
     "name": "stdout",
     "output_type": "stream",
     "text": [
      "120/120 [==============================] - 449s 4s/step\n",
      "25/25 [==============================] - 87s 3s/step\n"
     ]
    }
   ],
   "source": [
    "features = model.predict(x_train)\n",
    "x_test_features = model.predict(x_test)"
   ]
  },
  {
   "cell_type": "code",
   "execution_count": 79,
   "id": "7cdb02e1-6b98-4e8b-a669-edefb21b5a36",
   "metadata": {},
   "outputs": [
    {
     "data": {
      "text/plain": [
       "[<matplotlib.lines.Line2D at 0x2c62bc210>]"
      ]
     },
     "execution_count": 79,
     "metadata": {},
     "output_type": "execute_result"
    },
    {
     "data": {
      "image/png": "[encoded data removed]",
      "text/plain": [
       "<Figure size 640x480 with 1 Axes>"
      ]
     },
     "metadata": {},
     "output_type": "display_data"
    }
   ],
   "source": [
    "features = features.reshape((features.shape[0], -1))\n",
    "x_test_features = x_test_features.reshape((x_test_features.shape[0], -1))\n",
    "plt.plot(features[311])"
   ]
  },
  {
   "cell_type": "code",
   "execution_count": 80,
   "id": "2037406e-46c2-4e80-9879-acbc202c8216",
   "metadata": {},
   "outputs": [
    {
     "name": "stdout",
     "output_type": "stream",
     "text": [
      "0.83125\n",
      "0.8297483649376823\n"
     ]
    },
    {
     "data": {
      "image/png": "[encoded data removed]",
      "text/plain": [
       "<Figure size 800x600 with 2 Axes>"
      ]
     },
     "metadata": {},
     "output_type": "display_data"
    }
   ],
   "source": [
    "from sklearn.neighbors import KNeighborsClassifier\n",
    "from sklearn.metrics import accuracy_score, f1_score\n",
    "from sklearn.metrics import confusion_matrix\n",
    "import seaborn as sns\n",
    "import matplotlib.pyplot as plt\n",
    "\n",
    "knn_model = KNeighborsClassifier(n_neighbors=1) \n",
    "knn_model.fit(features, y_train)\n",
    "y_pred = knn_model.predict(x_test_features)\n",
    "print(accuracy_score(y_test, y_pred))\n",
    "print(f1_score(y_test,y_pred,average=\"weighted\"))\n",
    "\n",
    "cm = confusion_matrix(np.argmax(y_test,axis=1),np.argmax(y_pred,axis=1))\n",
    "\n",
    "plt.figure(figsize=(8, 6))\n",
    "sns.heatmap(cm, annot=True, fmt='d', cmap='Blues')\n",
    "plt.show()"
   ]
  },
  {
   "cell_type": "code",
   "execution_count": 81,
   "id": "6f5f1ee5-97c8-4abb-b55b-ae5b63b2dcf0",
   "metadata": {},
   "outputs": [],
   "source": [
    "from sklearn.linear_model import Lasso\n",
    "\n",
    "alpha = 0.02 ## Increasing makes more features sparse\n",
    "lasso_model = Lasso(alpha=alpha)\n",
    "lasso_model.fit(features, y_train)\n",
    "klp = lasso_model.predict(x_test_features)"
   ]
  },
  {
   "cell_type": "code",
   "execution_count": 82,
   "id": "2a1879a2-d1c0-4ae5-b00f-15f67cc0b4df",
   "metadata": {},
   "outputs": [],
   "source": [
    "Lasso_features = []\n",
    "for i in features:\n",
    "    Lasso_features.append(np.array(i[lasso_model.coef_[0] != 0]))\n",
    "Lasso_features = np.array(Lasso_features)\n",
    "\n",
    "Lasso_x_test_features = []\n",
    "for i in x_test_features:\n",
    "    Lasso_x_test_features.append(np.array(i[lasso_model.coef_[0] != 0]))\n",
    "Lasso_x_test_features = np.array(Lasso_x_test_features)"
   ]
  },
  {
   "cell_type": "code",
   "execution_count": 83,
   "id": "af0210e9-039b-4e16-a828-03e3451abf07",
   "metadata": {},
   "outputs": [
    {
     "name": "stdout",
     "output_type": "stream",
     "text": [
      "32768,1483\n"
     ]
    }
   ],
   "source": [
    "print(f'{len(features[0])},{len(Lasso_features[0])}')"
   ]
  },
  {
   "cell_type": "code",
   "execution_count": 84,
   "id": "b6427351-cf00-451f-a244-04bb192b27c5",
   "metadata": {},
   "outputs": [
    {
     "name": "stdout",
     "output_type": "stream",
     "text": [
      "0.81875\n",
      "0.8212853909976912\n"
     ]
    },
    {
     "data": {
      "image/png": "[encoded data removed]",
      "text/plain": [
       "<Figure size 800x600 with 2 Axes>"
      ]
     },
     "metadata": {},
     "output_type": "display_data"
    }
   ],
   "source": [
    "knn_model = KNeighborsClassifier(n_neighbors=1) \n",
    "knn_model.fit(Lasso_features, y_train)\n",
    "y_pred = knn_model.predict(Lasso_x_test_features)\n",
    "print(accuracy_score(y_test, y_pred))\n",
    "print(f1_score(y_test,y_pred,average=\"weighted\"))\n",
    "\n",
    "cm = confusion_matrix(np.argmax(y_test, axis=1), np.argmax(y_pred, axis=1))\n",
    "\n",
    "plt.figure(figsize=(8, 6))\n",
    "sns.heatmap(cm, annot=True, fmt='d', cmap='Blues')\n",
    "plt.show()"
   ]
  },
  {
   "cell_type": "code",
   "execution_count": 85,
   "id": "cccec024-085e-4c06-a3a1-24e822fb649d",
   "metadata": {},
   "outputs": [
    {
     "name": "stderr",
     "output_type": "stream",
     "text": [
      " This problem is unconstrained.\n"
     ]
    },
    {
     "name": "stdout",
     "output_type": "stream",
     "text": [
      "RUNNING THE L-BFGS-B CODE\n",
      "\n",
      "           * * *\n",
      "\n",
      "Machine precision = 2.220D-16\n",
      " N =         1483     M =           10\n",
      "\n",
      "At X0         0 variables are exactly at the bounds\n",
      "\n",
      "At iterate    0    f=  1.44450D+03    |proj g|=  2.08226D+05\n",
      "\n",
      "At iterate    1    f=  3.70657D+02    |proj g|=  3.78663D+03\n",
      "\n",
      "At iterate    2    f=  3.49984D+02    |proj g|=  2.69950D+03\n",
      "\n",
      "At iterate    3    f=  2.81852D+02    |proj g|=  3.43144D+03\n",
      "\n",
      "At iterate    4    f=  2.45608D+02    |proj g|=  5.72877D+03\n",
      "\n",
      "At iterate    5    f=  2.08452D+02    |proj g|=  2.99960D+03\n",
      "\n",
      "At iterate    6    f=  1.71857D+02    |proj g|=  1.58507D+03\n",
      "\n",
      "At iterate    7    f=  1.57742D+02    |proj g|=  1.56319D+03\n",
      "\n",
      "           * * *\n",
      "\n",
      "Tit   = total number of iterations\n",
      "Tnf   = total number of function evaluations\n",
      "Tnint = total number of segments explored during Cauchy searches\n",
      "Skip  = number of BFGS updates skipped\n",
      "Nact  = number of active bounds at final generalized Cauchy point\n",
      "Projg = norm of the final projected gradient\n",
      "F     = final function value\n",
      "\n",
      "           * * *\n",
      "\n",
      "   N    Tit     Tnf  Tnint  Skip  Nact     Projg        F\n",
      " 1483      7     11      1     0     0   1.563D+03   1.577D+02\n",
      "  F =   157.74169284236697     \n",
      "\n",
      "STOP: TOTAL NO. of f AND g EVALUATIONS EXCEEDS LIMIT        \n"
     ]
    }
   ],
   "source": [
    "from scipy.optimize import minimize\n",
    "\n",
    "def objective_function(x, A, b, lambd):\n",
    "    return 0.5 * np.linalg.norm(A @ x - b)**2 + lambd * np.linalg.norm(x, 1)\n",
    "\n",
    "def proximal_gradient_descent_scipy(A, b, lambd, x0, max_iter=10, tol=1e-4):\n",
    "    result = minimize(\n",
    "        fun=objective_function,\n",
    "        x0=x0,\n",
    "        args=(A, b, lambd),\n",
    "        method='L-BFGS-B',  \n",
    "        options={'maxiter': max_iter, 'disp': True}\n",
    "    )\n",
    "\n",
    "    return result.x\n",
    "\n",
    "A = np.matrix(Lasso_features)\n",
    "b = np.matrix(np.argmax(y_train, axis=1))\n",
    "\n",
    "resulting_coefficients = proximal_gradient_descent_scipy(A, b, lambd=0.1, x0=np.zeros(A.shape[1]))"
   ]
  },
  {
   "cell_type": "code",
   "execution_count": 86,
   "id": "cd17c55e-e33a-45f9-aa03-4f54600feb55",
   "metadata": {},
   "outputs": [
    {
     "data": {
      "text/plain": [
       "620"
      ]
     },
     "execution_count": 86,
     "metadata": {},
     "output_type": "execute_result"
    }
   ],
   "source": [
    "rc = np.round(resulting_coefficients,3)\n",
    "sum(rc!=0)"
   ]
  },
  {
   "cell_type": "code",
   "execution_count": 87,
   "id": "fedb4d85-a2c0-4146-b468-d4680be1803e",
   "metadata": {},
   "outputs": [],
   "source": [
    "PGD_features = []\n",
    "for i in Lasso_features:\n",
    "    PGD_features.append(np.array(i[rc != 0]))\n",
    "PGD_features = np.array(PGD_features)\n",
    "\n",
    "PGD_x_test_features = []\n",
    "for i in Lasso_x_test_features:\n",
    "    PGD_x_test_features.append(np.array(i[rc != 0]))\n",
    "PGD_x_test_features = np.array(PGD_x_test_features)"
   ]
  },
  {
   "cell_type": "code",
   "execution_count": 88,
   "id": "0c55a96d-c73f-4628-a9ce-0ab38e9ebeb9",
   "metadata": {},
   "outputs": [
    {
     "name": "stdout",
     "output_type": "stream",
     "text": [
      "0.8325\n",
      "0.829450804109895\n"
     ]
    },
    {
     "data": {
      "image/png": "[encoded data removed]",
      "text/plain": [
       "<Figure size 800x600 with 2 Axes>"
      ]
     },
     "metadata": {},
     "output_type": "display_data"
    }
   ],
   "source": [
    "knn_model = KNeighborsClassifier(n_neighbors=1) \n",
    "knn_model.fit(PGD_features, y_train)\n",
    "y_pred = knn_model.predict(PGD_x_test_features)\n",
    "print(accuracy_score(y_test, y_pred))\n",
    "print(f1_score(y_test,y_pred,average=\"weighted\"))\n",
    "\n",
    "cm = confusion_matrix(np.argmax(y_test, axis=1), np.argmax(y_pred, axis=1))\n",
    "\n",
    "plt.figure(figsize=(8, 6))\n",
    "sns.heatmap(cm, annot=True, fmt='d', cmap='Blues')\n",
    "plt.show()"
   ]
  },
  {
   "cell_type": "code",
   "execution_count": 89,
   "id": "0f2ba843-0993-4c5b-903c-86f4fd2bc7b7",
   "metadata": {},
   "outputs": [
    {
     "name": "stdout",
     "output_type": "stream",
     "text": [
      "0.8325\n",
      "0.829450804109895\n"
     ]
    },
    {
     "data": {
      "image/png": "[encoded data removed]",
      "text/plain": [
       "<Figure size 800x600 with 2 Axes>"
      ]
     },
     "metadata": {},
     "output_type": "display_data"
    }
   ],
   "source": [
    "from sklearn import svm\n",
    "\n",
    "svc = svm.OneClassSVM(nu=0.5, kernel='rbf', gamma=0.1)\n",
    "\n",
    "svc.fit(PGD_features)\n",
    "test_predictions = svc.predict(PGD_x_test_features)\n",
    "\n",
    "print(accuracy_score(y_test, y_pred))\n",
    "print(f1_score(y_test,y_pred,average=\"weighted\"))\n",
    "\n",
    "cm = confusion_matrix(np.argmax(y_test, axis=1), np.argmax(y_pred, axis=1))\n",
    "\n",
    "plt.figure(figsize=(8, 6))\n",
    "sns.heatmap(cm, annot=True, fmt='d', cmap='Blues')\n",
    "plt.show()"
   ]
  }
 ],
 "metadata": {
  "kernelspec": {
   "display_name": "Python 3 (ipykernel)",
   "language": "python",
   "name": "python3"
  },
  "language_info": {
   "codemirror_mode": {
    "name": "ipython",
    "version": 3
   },
   "file_extension": ".py",
   "mimetype": "text/x-python",
   "name": "python",
   "nbconvert_exporter": "python",
   "pygments_lexer": "ipython3",
   "version": "3.11.5"
  }
 },
 "nbformat": 4,
 "nbformat_minor": 5
}
