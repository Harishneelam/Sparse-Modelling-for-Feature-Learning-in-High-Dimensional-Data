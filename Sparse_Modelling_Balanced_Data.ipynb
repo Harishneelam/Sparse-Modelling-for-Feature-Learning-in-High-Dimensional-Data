{
 "cells": [
  {
   "cell_type": "code",
   "execution_count": 37,
   "id": "e99d999a-277c-4bb6-b40d-f1d9659f7a3f",
   "metadata": {},
   "outputs": [],
   "source": [
    "import pandas as pd\n",
    "import numpy as np\n",
    "import seaborn as sns\n",
    "import matplotlib.pyplot as plt\n",
    "import os\n",
    "from glob import glob\n",
    "import cv2\n",
    "import pickle\n",
    "from sklearn.model_selection import train_test_split"
   ]
  },
  {
   "cell_type": "markdown",
   "id": "959bbfb0-5a2e-4751-ae36-b8d22ca4c5b5",
   "metadata": {},
   "source": [
    "## Loading Data"
   ]
  },
  {
   "cell_type": "code",
   "execution_count": 38,
   "id": "631d1112-498e-452f-ba84-7f8829fed71d",
   "metadata": {},
   "outputs": [],
   "source": [
    "with open('Image_Data_256x256.pkl', 'rb') as file:\n",
    "    data = pickle.load(file)"
   ]
  },
  {
   "cell_type": "code",
   "execution_count": 39,
   "id": "0c3bf278-0af3-4ff5-8276-d527a0509497",
   "metadata": {},
   "outputs": [
    {
     "data": {
      "text/plain": [
       "4000"
      ]
     },
     "execution_count": 39,
     "metadata": {},
     "output_type": "execute_result"
    }
   ],
   "source": [
    "bbox_folder = 'archive/Bounding Boxes - YOLO Format - 1/Bounding Boxes - YOLO Format - 1'\n",
    "bb_paths = glob(os.path.join(bbox_folder,'*.txt'))\n",
    "len(bb_paths)"
   ]
  },
  {
   "cell_type": "code",
   "execution_count": 40,
   "id": "8699dc2c-1039-4bc3-9f1a-8ead3c5c8cec",
   "metadata": {},
   "outputs": [],
   "source": [
    "path = \"archive/Images - 1/Images - 1/\"\n",
    "image_paths = glob(os.path.join(path,'*.jpg'))\n",
    "\n",
    "bbox_folder = 'archive/Bounding Boxes - YOLO Format - 1/Bounding Boxes - YOLO Format - 1'\n",
    "bb_paths = glob(os.path.join(bbox_folder,'*.txt'))\n",
    "\n",
    "\n",
    "Image_data = []\n",
    "Label_data = []\n",
    "Image_path = []\n",
    "\n",
    "for i in bb_paths:\n",
    "    if os.path.exists(i):\n",
    "        if os.path.getsize(i) == 0:\n",
    "            Image_path.append(image_paths[bb_paths.index(i)])\n",
    "            Image_data.append(data[bb_paths.index(i)])\n",
    "            Label_data.append(0)\n",
    "        else:\n",
    "            Image_path.append(image_paths[bb_paths.index(i)])\n",
    "            Image_data.append(data[bb_paths.index(i)])\n",
    "            Label_data.append(1)"
   ]
  },
  {
   "cell_type": "code",
   "execution_count": 41,
   "id": "4812286b-c477-4315-b13c-152bfdd07b72",
   "metadata": {},
   "outputs": [],
   "source": [
    "df = pd.DataFrame({'Image': Image_data, 'Label': Label_data})"
   ]
  },
  {
   "cell_type": "code",
   "execution_count": 42,
   "id": "c8e6dbc0-142f-41a2-89da-cd114b96b19d",
   "metadata": {},
   "outputs": [
    {
     "name": "stdout",
     "output_type": "stream",
     "text": [
      "<class 'pandas.core.frame.DataFrame'>\n",
      "RangeIndex: 4000 entries, 0 to 3999\n",
      "Data columns (total 2 columns):\n",
      " #   Column  Non-Null Count  Dtype \n",
      "---  ------  --------------  ----- \n",
      " 0   Image   4000 non-null   object\n",
      " 1   Label   4000 non-null   int64 \n",
      "dtypes: int64(1), object(1)\n",
      "memory usage: 62.6+ KB\n"
     ]
    }
   ],
   "source": [
    "df.info()"
   ]
  },
  {
   "cell_type": "code",
   "execution_count": 43,
   "id": "beab3a9a-3d2f-4ae1-90ae-cbcc501d350c",
   "metadata": {},
   "outputs": [],
   "source": [
    "Train_df, Test_df = df.iloc[0:3200,:],df.iloc[3200:,:]"
   ]
  },
  {
   "cell_type": "code",
   "execution_count": 44,
   "id": "2e05e739-c618-423c-8723-64af29055d12",
   "metadata": {},
   "outputs": [
    {
     "data": {
      "text/plain": [
       "(array([0, 1]), array([ 311, 2889]))"
      ]
     },
     "execution_count": 44,
     "metadata": {},
     "output_type": "execute_result"
    }
   ],
   "source": [
    "np.unique(Train_df.Label, return_counts=True)"
   ]
  },
  {
   "cell_type": "code",
   "execution_count": 45,
   "id": "857e7ce4-15cf-4688-9481-eeaa4e01b03d",
   "metadata": {},
   "outputs": [
    {
     "data": {
      "text/plain": [
       "(array([0, 1]), array([ 77, 723]))"
      ]
     },
     "execution_count": 45,
     "metadata": {},
     "output_type": "execute_result"
    }
   ],
   "source": [
    "np.unique(Test_df.Label, return_counts=True)"
   ]
  },
  {
   "cell_type": "markdown",
   "id": "13f1057a-d965-40cc-9281-54c54a3028f2",
   "metadata": {},
   "source": [
    "## Duplicating the less sample class with Filtered images in the Training data"
   ]
  },
  {
   "cell_type": "code",
   "execution_count": 46,
   "id": "205eb13d-f132-463e-a222-82970e4af0ba",
   "metadata": {},
   "outputs": [],
   "source": [
    "class_0 = Train_df[Train_df.Label==0]\n",
    "class_1 = Train_df[Train_df.Label==1]"
   ]
  },
  {
   "cell_type": "code",
   "execution_count": 47,
   "id": "ae36ad2b-75dd-4791-8502-40c02866d19e",
   "metadata": {},
   "outputs": [],
   "source": [
    "RS_Image = list(class_1.Image)\n",
    "RS_Label = list(class_1.Label)\n",
    "\n",
    "for i in range(len(class_0)):\n",
    "    k = np.random.randint(0,len(class_0), 1)[0]\n",
    "    RS_Image.append(cv2.GaussianBlur(class_0.Image.iloc[k], (5, 5), 0))\n",
    "    RS_Label.append(class_0.Label.iloc[k])\n",
    "    RS_Image.append(cv2.bilateralFilter(class_0.Image.iloc[k], 9, 75, 75))\n",
    "    RS_Label.append(class_0.Label.iloc[k])\n",
    "    RS_Image.append(cv2.magnitude(cv2.Sobel(class_0.Image.iloc[k], cv2.CV_64F, 1, 0, ksize=3), cv2.Sobel(class_0.Image.iloc[k], cv2.CV_64F, 0, 1, ksize=3)))\n",
    "    RS_Label.append(class_0.Label.iloc[k])\n",
    "\n",
    "RS_Train_df = pd.DataFrame({'Image': RS_Image, 'Label': RS_Label})\n",
    "RS_Train_df = RS_Train_df.sample(frac=1)"
   ]
  },
  {
   "cell_type": "code",
   "execution_count": 48,
   "id": "be24c599-bd29-41ec-bbf1-f853632d6865",
   "metadata": {},
   "outputs": [
    {
     "data": {
      "text/plain": [
       "(array([0, 1]), array([ 933, 2889]))"
      ]
     },
     "execution_count": 48,
     "metadata": {},
     "output_type": "execute_result"
    }
   ],
   "source": [
    "np.unique(RS_Train_df.Label, return_counts=True)"
   ]
  },
  {
   "cell_type": "code",
   "execution_count": 49,
   "id": "34aabadf-e1ff-463d-957d-23460bfe6140",
   "metadata": {},
   "outputs": [],
   "source": [
    "from tensorflow.keras.utils import to_categorical\n",
    "\n",
    "x_train = np.stack(RS_Train_df['Image'].values)\n",
    "y_train = to_categorical(np.stack(RS_Train_df['Label'].values), num_classes = 2)\n",
    "\n",
    "x_test = np.stack(Test_df['Image'].values)\n",
    "y_test = to_categorical(np.stack(Test_df['Label'].values), num_classes = 2)"
   ]
  },
  {
   "cell_type": "code",
   "execution_count": 50,
   "id": "e7565b42-05c5-44ca-887a-b308fd4bbfd7",
   "metadata": {},
   "outputs": [],
   "source": [
    "x_train = x_train.reshape(x_train.shape[0], *(256, 256, 3))\n",
    "x_test = x_test.reshape(x_test.shape[0], *(256, 256, 3))"
   ]
  },
  {
   "cell_type": "markdown",
   "id": "3ed3d7ee-fb48-4fc3-9bfa-205fce8e71ec",
   "metadata": {},
   "source": [
    "## VGG19 Feature Representation"
   ]
  },
  {
   "cell_type": "code",
   "execution_count": 51,
   "id": "c2cb4c07-7a65-45ee-9668-884d40c654e7",
   "metadata": {},
   "outputs": [
    {
     "name": "stdout",
     "output_type": "stream",
     "text": [
      "Model: \"sequential\"\n",
      "_________________________________________________________________\n",
      " Layer (type)                Output Shape              Param #   \n",
      "=================================================================\n",
      " vgg19 (Functional)          (None, 8, 8, 512)         20024384  \n",
      "                                                                 \n",
      " flatten (Flatten)           (None, 32768)             0         \n",
      "                                                                 \n",
      "=================================================================\n",
      "Total params: 20024384 (76.39 MB)\n",
      "Trainable params: 0 (0.00 Byte)\n",
      "Non-trainable params: 20024384 (76.39 MB)\n",
      "_________________________________________________________________\n"
     ]
    }
   ],
   "source": [
    "from tensorflow.keras.applications import VGG19\n",
    "from tensorflow.keras.models import Sequential\n",
    "from tensorflow.keras.layers import Dense, Flatten\n",
    "from tensorflow.keras.optimizers.legacy import Adam\n",
    "from tensorflow.keras.preprocessing.image import ImageDataGenerator\n",
    "\n",
    "from tensorflow.keras.layers import Flatten, Dense, BatchNormalization\n",
    "\n",
    "input_shape = (256, 256, 3)\n",
    "\n",
    "vgg19_model = VGG19(weights='imagenet', include_top=False, input_shape=input_shape)\n",
    "\n",
    "for layer in vgg19_model.layers:\n",
    "    layer.trainable = False\n",
    "\n",
    "model = Sequential()\n",
    "model.add(vgg19_model)\n",
    "model.add(Flatten())\n",
    "\n",
    "model.compile(optimizer=Adam(learning_rate=0.0001), loss='binary_crossentropy', metrics=['accuracy'])\n",
    "\n",
    "model.summary()"
   ]
  },
  {
   "cell_type": "code",
   "execution_count": null,
   "id": "12080a5e-c573-4600-9037-96916c48771d",
   "metadata": {},
   "outputs": [],
   "source": [
    "features = model.predict(x_train)\n",
    "x_test_features = model.predict(x_test)"
   ]
  },
  {
   "cell_type": "code",
   "execution_count": null,
   "id": "7cdb02e1-6b98-4e8b-a669-edefb21b5a36",
   "metadata": {},
   "outputs": [],
   "source": [
    "features = features.reshape((features.shape[0], -1))\n",
    "x_test_features = x_test_features.reshape((x_test_features.shape[0], -1))\n",
    "plt.plot(features[311])"
   ]
  },
  {
   "cell_type": "markdown",
   "id": "479bf591-db8e-4bde-b0fa-f38977d99c74",
   "metadata": {},
   "source": [
    "## KNN with VGG19 Features"
   ]
  },
  {
   "cell_type": "code",
   "execution_count": null,
   "id": "2037406e-46c2-4e80-9879-acbc202c8216",
   "metadata": {},
   "outputs": [],
   "source": [
    "from sklearn.neighbors import KNeighborsClassifier\n",
    "from sklearn.metrics import accuracy_score, f1_score\n",
    "from sklearn.metrics import confusion_matrix\n",
    "import seaborn as sns\n",
    "import matplotlib.pyplot as plt\n",
    "\n",
    "knn_model = KNeighborsClassifier(n_neighbors=1) \n",
    "knn_model.fit(features, y_train)\n",
    "y_pred = knn_model.predict(x_test_features)\n",
    "print(accuracy_score(y_test, y_pred))\n",
    "print(f1_score(y_test,y_pred,average=\"weighted\"))\n",
    "\n",
    "cm = confusion_matrix(np.argmax(y_test,axis=1),np.argmax(y_pred,axis=1))\n",
    "\n",
    "plt.figure(figsize=(8, 6))\n",
    "sns.heatmap(cm, annot=True, fmt='d', cmap='Blues')\n",
    "plt.show()"
   ]
  },
  {
   "cell_type": "markdown",
   "id": "f7c76688-a503-4abf-b345-89e37f709df3",
   "metadata": {},
   "source": [
    "## Lasso Feature Selection"
   ]
  },
  {
   "cell_type": "code",
   "execution_count": null,
   "id": "6f5f1ee5-97c8-4abb-b55b-ae5b63b2dcf0",
   "metadata": {},
   "outputs": [],
   "source": [
    "from sklearn.linear_model import Lasso\n",
    "\n",
    "alpha = 0.02 ## Increasing makes more features sparse\n",
    "lasso_model = Lasso(alpha=alpha)\n",
    "lasso_model.fit(features, y_train)\n",
    "klp = lasso_model.predict(x_test_features)"
   ]
  },
  {
   "cell_type": "code",
   "execution_count": null,
   "id": "2a1879a2-d1c0-4ae5-b00f-15f67cc0b4df",
   "metadata": {},
   "outputs": [],
   "source": [
    "Lasso_features = []\n",
    "for i in features:\n",
    "    Lasso_features.append(np.array(i[lasso_model.coef_[0] != 0]))\n",
    "Lasso_features = np.array(Lasso_features)\n",
    "\n",
    "Lasso_x_test_features = []\n",
    "for i in x_test_features:\n",
    "    Lasso_x_test_features.append(np.array(i[lasso_model.coef_[0] != 0]))\n",
    "Lasso_x_test_features = np.array(Lasso_x_test_features)"
   ]
  },
  {
   "cell_type": "code",
   "execution_count": null,
   "id": "af0210e9-039b-4e16-a828-03e3451abf07",
   "metadata": {},
   "outputs": [],
   "source": [
    "print(f'{len(features[0])},{len(Lasso_features[0])}')"
   ]
  },
  {
   "cell_type": "markdown",
   "id": "b79c7b13-4cd4-4f08-92c7-e6bf434258b5",
   "metadata": {},
   "source": [
    "## KNN with Lasso Features"
   ]
  },
  {
   "cell_type": "code",
   "execution_count": null,
   "id": "b6427351-cf00-451f-a244-04bb192b27c5",
   "metadata": {},
   "outputs": [],
   "source": [
    "knn_model = KNeighborsClassifier(n_neighbors=1) \n",
    "knn_model.fit(Lasso_features, y_train)\n",
    "y_pred = knn_model.predict(Lasso_x_test_features)\n",
    "print(accuracy_score(y_test, y_pred))\n",
    "print(f1_score(y_test,y_pred,average=\"weighted\"))\n",
    "\n",
    "cm = confusion_matrix(np.argmax(y_test, axis=1), np.argmax(y_pred, axis=1))\n",
    "\n",
    "plt.figure(figsize=(8, 6))\n",
    "sns.heatmap(cm, annot=True, fmt='d', cmap='Blues')\n",
    "plt.show()"
   ]
  },
  {
   "cell_type": "markdown",
   "id": "930d26d1-3110-4950-8a37-1ac39391fbfd",
   "metadata": {},
   "source": [
    "## Proximal Gradient Descent Optimization"
   ]
  },
  {
   "cell_type": "code",
   "execution_count": null,
   "id": "cccec024-085e-4c06-a3a1-24e822fb649d",
   "metadata": {},
   "outputs": [],
   "source": [
    "from scipy.optimize import minimize\n",
    "\n",
    "def objective_function(x, A, b, lambd):\n",
    "    return 0.5 * np.linalg.norm(A @ x - b)**2 + lambd * np.linalg.norm(x, 1)\n",
    "\n",
    "def proximal_gradient_descent_scipy(A, b, lambd, x0, max_iter=10, tol=1e-4):\n",
    "    result = minimize(\n",
    "        fun=objective_function,\n",
    "        x0=x0,\n",
    "        args=(A, b, lambd),\n",
    "        method='L-BFGS-B',  \n",
    "        options={'maxiter': max_iter, 'disp': True}\n",
    "    )\n",
    "\n",
    "    return result.x\n",
    "\n",
    "A = np.matrix(Lasso_features)\n",
    "b = np.matrix(np.argmax(y_train, axis=1))\n",
    "\n",
    "resulting_coefficients = proximal_gradient_descent_scipy(A, b, lambd=0.1, x0=np.zeros(A.shape[1]))"
   ]
  },
  {
   "cell_type": "code",
   "execution_count": null,
   "id": "cd17c55e-e33a-45f9-aa03-4f54600feb55",
   "metadata": {},
   "outputs": [],
   "source": [
    "rc = np.round(resulting_coefficients,3)\n",
    "sum(rc!=0)"
   ]
  },
  {
   "cell_type": "code",
   "execution_count": null,
   "id": "fedb4d85-a2c0-4146-b468-d4680be1803e",
   "metadata": {},
   "outputs": [],
   "source": [
    "PGD_features = []\n",
    "for i in Lasso_features:\n",
    "    PGD_features.append(np.array(i[rc != 0]))\n",
    "PGD_features = np.array(PGD_features)\n",
    "\n",
    "PGD_x_test_features = []\n",
    "for i in Lasso_x_test_features:\n",
    "    PGD_x_test_features.append(np.array(i[rc != 0]))\n",
    "PGD_x_test_features = np.array(PGD_x_test_features)"
   ]
  },
  {
   "cell_type": "markdown",
   "id": "d3bbf2ad-24f2-4bbb-9b71-f80ea8c0abdb",
   "metadata": {},
   "source": [
    "## KNN with PGD Features"
   ]
  },
  {
   "cell_type": "code",
   "execution_count": null,
   "id": "0c55a96d-c73f-4628-a9ce-0ab38e9ebeb9",
   "metadata": {},
   "outputs": [],
   "source": [
    "knn_model = KNeighborsClassifier(n_neighbors=1) \n",
    "knn_model.fit(PGD_features, y_train)\n",
    "y_pred = knn_model.predict(PGD_x_test_features)\n",
    "print(accuracy_score(y_test, y_pred))\n",
    "print(f1_score(y_test,y_pred,average=\"weighted\"))\n",
    "\n",
    "cm = confusion_matrix(np.argmax(y_test, axis=1), np.argmax(y_pred, axis=1))\n",
    "\n",
    "plt.figure(figsize=(8, 6))\n",
    "sns.heatmap(cm, annot=True, fmt='d', cmap='Blues')\n",
    "plt.show()"
   ]
  },
  {
   "cell_type": "markdown",
   "id": "24756831-f720-4999-ba76-9ca58eb66ed9",
   "metadata": {},
   "source": [
    "## Anamoly Detection Methods"
   ]
  },
  {
   "cell_type": "code",
   "execution_count": null,
   "id": "0f2ba843-0993-4c5b-903c-86f4fd2bc7b7",
   "metadata": {},
   "outputs": [],
   "source": [
    "from sklearn import svm\n",
    "\n",
    "svc = svm.OneClassSVM(nu=0.5, kernel='rbf', gamma=0.1)\n",
    "\n",
    "svc.fit(PGD_features)\n",
    "test_predictions = svc.predict(PGD_x_test_features)\n",
    "\n",
    "print(accuracy_score(y_test, y_pred))\n",
    "print(f1_score(y_test,y_pred,average=\"weighted\"))\n",
    "\n",
    "cm = confusion_matrix(np.argmax(y_test, axis=1), np.argmax(y_pred, axis=1))\n",
    "\n",
    "plt.figure(figsize=(8, 6))\n",
    "sns.heatmap(cm, annot=True, fmt='d', cmap='Blues')\n",
    "plt.show()"
   ]
  },
  {
   "cell_type": "code",
   "execution_count": null,
   "id": "403628a9-a5da-485a-9cae-f5d14acc3cdb",
   "metadata": {},
   "outputs": [],
   "source": [
    "from sklearn.ensemble import IsolationForest\n",
    "\n",
    "isolation_forest = IsolationForest(contamination=0.3)  \n",
    "isolation_forest.fit(PGD_features)\n",
    "\n",
    "\n",
    "outlier_predictions = isolation_forest.predict(PGD_x_test_features)\n",
    "\n",
    "anomaly_labels = (outlier_predictions == 1).astype(int)\n",
    "\n",
    "y_pred = anomaly_labels\n",
    "y_tests = np.argmax(y_test, axis=1)\n",
    "print(accuracy_score(y_tests, y_pred))\n",
    "print(f1_score(y_tests,y_pred,average=\"weighted\"))\n",
    "\n",
    "cm = confusion_matrix(y_tests, y_pred)\n",
    "\n",
    "plt.figure(figsize=(8, 6))\n",
    "sns.heatmap(cm, annot=True, fmt='d', cmap='Blues')\n",
    "plt.show()\n",
    "print(classification_report(y_tests, y_pred))"
   ]
  },
  {
   "cell_type": "code",
   "execution_count": null,
   "id": "a8aefccf-b57b-4f3c-b401-4eb7ac2cd501",
   "metadata": {},
   "outputs": [],
   "source": [
    "from sklearn.neighbors import LocalOutlierFactor\n",
    "import numpy as np\n",
    "\n",
    "features = features.reshape((len(PGD_features), -1))\n",
    "\n",
    "lof = LocalOutlierFactor(n_neighbors=5, contamination=0.1) \n",
    "outlier_scores = lof.fit_predict(PGD_x_test_features)\n",
    "\n",
    "anomaly_labels = (outlier_scores == 1).astype(int)\n",
    "\n",
    "y_pred = anomaly_labels\n",
    "print(accuracy_score(y_tests, y_pred))\n",
    "print(f1_score(y_tests,y_pred,average=\"weighted\"))\n",
    "\n",
    "cm = confusion_matrix(y_tests, y_pred)\n",
    "\n",
    "plt.figure(figsize=(8, 6))\n",
    "sns.heatmap(cm, annot=True, fmt='d', cmap='Blues')\n",
    "plt.show()"
   ]
  },
  {
   "cell_type": "code",
   "execution_count": null,
   "id": "f249920f-d8f2-4284-936c-222a12ae396f",
   "metadata": {},
   "outputs": [],
   "source": [
    "yt = np.argmax(y_test, axis=1)\n",
    "yp = np.argmax(y_pred, axis=1)\n",
    "\n",
    "k = np.random.randint(0, len(yt), size=10)\n",
    "\n",
    "fig, axes = plt.subplots(2, 5, figsize=(15, 6))\n",
    "\n",
    "for i, ax in zip(k, axes.flatten()):\n",
    "    ax.imshow(x_test[i] / 255)\n",
    "    ax.set_title(f'Actual: {yt[i]}\\nPredicted: {yp[i]}')\n",
    "    ax.axis('off')\n",
    "\n",
    "plt.tight_layout()\n",
    "plt.show()"
   ]
  },
  {
   "cell_type": "code",
   "execution_count": null,
   "id": "b72c47fd-9b38-4c06-85b7-aa825929bb7e",
   "metadata": {},
   "outputs": [],
   "source": []
  },
  {
   "cell_type": "code",
   "execution_count": null,
   "id": "882cd9af-8da8-4703-8a30-01f2c26f406b",
   "metadata": {},
   "outputs": [],
   "source": []
  },
  {
   "cell_type": "code",
   "execution_count": null,
   "id": "3b008ce1-ec00-4974-9dbd-6918c6ee989f",
   "metadata": {},
   "outputs": [],
   "source": []
  },
  {
   "cell_type": "code",
   "execution_count": null,
   "id": "6efe7c7b-1cc5-430c-844d-4c91ce1f9287",
   "metadata": {},
   "outputs": [],
   "source": []
  },
  {
   "cell_type": "code",
   "execution_count": null,
   "id": "8c4aae52-5847-46ec-8e41-b3d07f038f1e",
   "metadata": {},
   "outputs": [],
   "source": []
  }
 ],
 "metadata": {
  "kernelspec": {
   "display_name": "Python 3 (ipykernel)",
   "language": "python",
   "name": "python3"
  },
  "language_info": {
   "codemirror_mode": {
    "name": "ipython",
    "version": 3
   },
   "file_extension": ".py",
   "mimetype": "text/x-python",
   "name": "python",
   "nbconvert_exporter": "python",
   "pygments_lexer": "ipython3",
   "version": "3.11.5"
  }
 },
 "nbformat": 4,
 "nbformat_minor": 5
}
