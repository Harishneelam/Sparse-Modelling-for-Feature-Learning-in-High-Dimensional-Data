{
 "cells": [
  {
   "cell_type": "code",
   "execution_count": 1,
   "id": "3ae44222-7abd-4cca-ad9b-da213be7bb05",
   "metadata": {},
   "outputs": [],
   "source": [
    "import pandas as pd\n",
    "import numpy as np\n",
    "import seaborn as sns\n",
    "import matplotlib.pyplot as plt\n",
    "import os\n",
    "from glob import glob\n",
    "import cv2\n",
    "import pickle"
   ]
  },
  {
   "cell_type": "code",
   "execution_count": 2,
   "id": "b6b520a9-1a56-4da0-991d-710dd4262e8b",
   "metadata": {},
   "outputs": [],
   "source": [
    "with open('Image_Data_256x256.pkl', 'rb') as file:\n",
    "    data = pickle.load(file)"
   ]
  },
  {
   "cell_type": "code",
   "execution_count": 3,
   "id": "5269078e-de35-4bf5-8839-f0097c91ac98",
   "metadata": {},
   "outputs": [
    {
     "data": {
      "text/plain": [
       "4000"
      ]
     },
     "execution_count": 3,
     "metadata": {},
     "output_type": "execute_result"
    }
   ],
   "source": [
    "data.shape[0]"
   ]
  },
  {
   "cell_type": "code",
   "execution_count": 4,
   "id": "0c04bdd0-44f8-48ba-bc9e-589b63e7d9e5",
   "metadata": {},
   "outputs": [
    {
     "data": {
      "text/plain": [
       "4000"
      ]
     },
     "execution_count": 4,
     "metadata": {},
     "output_type": "execute_result"
    }
   ],
   "source": [
    "bbox_folder = 'archive/Bounding Boxes - YOLO Format - 1/Bounding Boxes - YOLO Format - 1'\n",
    "bb_paths = glob(os.path.join(bbox_folder,'*.txt'))\n",
    "len(bb_paths)"
   ]
  },
  {
   "cell_type": "code",
   "execution_count": 6,
   "id": "01904f85-5be4-4c16-9859-5ed9c5c2d2ec",
   "metadata": {},
   "outputs": [],
   "source": [
    "path = \"archive/Images - 1/Images - 1/\"\n",
    "image_paths = glob(os.path.join(path,'*.jpg'))\n",
    "\n",
    "bbox_folder = 'archive/Bounding Boxes - YOLO Format - 1/Bounding Boxes - YOLO Format - 1'\n",
    "bb_paths = glob(os.path.join(bbox_folder,'*.txt'))\n",
    "\n",
    "\n",
    "Image_data = []\n",
    "Label_data = []\n",
    "Image_path = []\n",
    "\n",
    "for i in bb_paths:\n",
    "    if os.path.exists(i):\n",
    "        if os.path.getsize(i) == 0:\n",
    "            Image_path.append(image_paths[bb_paths.index(i)])\n",
    "            Image_data.append(data[bb_paths.index(i)])\n",
    "            Label_data.append('0')\n",
    "        else:\n",
    "            Image_path.append(image_paths[bb_paths.index(i)])\n",
    "            Image_data.append(data[bb_paths.index(i)])\n",
    "            Label_data.append('1')"
   ]
  },
  {
   "cell_type": "code",
   "execution_count": 7,
   "id": "b69b5683-2465-4ce9-aa6a-fd15f62ea4da",
   "metadata": {},
   "outputs": [],
   "source": [
    "df = pd.DataFrame({'Image_path': Image_path, 'Image': Image_data, 'Label': Label_data})"
   ]
  },
  {
   "cell_type": "code",
   "execution_count": 8,
   "id": "a96fb06b-c223-4100-9eac-41bbbab162e9",
   "metadata": {},
   "outputs": [
    {
     "name": "stdout",
     "output_type": "stream",
     "text": [
      "<class 'pandas.core.frame.DataFrame'>\n",
      "RangeIndex: 4000 entries, 0 to 3999\n",
      "Data columns (total 3 columns):\n",
      " #   Column      Non-Null Count  Dtype \n",
      "---  ------      --------------  ----- \n",
      " 0   Image_path  4000 non-null   object\n",
      " 1   Image       4000 non-null   object\n",
      " 2   Label       4000 non-null   object\n",
      "dtypes: object(3)\n",
      "memory usage: 93.9+ KB\n"
     ]
    }
   ],
   "source": [
    "df.info()"
   ]
  },
  {
   "cell_type": "code",
   "execution_count": 9,
   "id": "3ee96b9e-3169-45c4-b2a5-a944a6ff8fc6",
   "metadata": {},
   "outputs": [
    {
     "data": {
      "text/plain": [
       "(array(['0', '1'], dtype=object), array([ 388, 3612]))"
      ]
     },
     "execution_count": 9,
     "metadata": {},
     "output_type": "execute_result"
    }
   ],
   "source": [
    "np.unique(df.Label, return_counts=True)"
   ]
  },
  {
   "cell_type": "code",
   "execution_count": 30,
   "id": "980f6121-b633-42ed-891d-873ab4b5e1c3",
   "metadata": {},
   "outputs": [
    {
     "data": {
      "image/png": "[encoded data removed]",
      "text/plain": [
       "<Figure size 600x500 with 1 Axes>"
      ]
     },
     "metadata": {},
     "output_type": "display_data"
    }
   ],
   "source": [
    "import matplotlib.pyplot as plt\n",
    "import seaborn as sns\n",
    "import pandas as pd\n",
    "\n",
    "labels, counts = np.unique(df.Label, return_counts=True)\n",
    "total_samples = len(df.Label)\n",
    "percentages = (counts / total_samples) * 100\n",
    "\n",
    "data = pd.DataFrame({'Labels': labels, 'Counts': counts, 'Percentages': percentages})\n",
    "\n",
    "sns.set(style=\"whitegrid\")\n",
    "plt.figure(figsize=(6, 5))\n",
    "ax = sns.barplot(x='Labels', y='Counts', data=data, palette=\"Blues\")\n",
    "\n",
    "for i, p in enumerate(ax.patches):\n",
    "    percentage = f'{percentages[i]:.2f}%'\n",
    "    ax.text(p.get_x() + p.get_width() / 2., p.get_height(), percentage, ha='center', va='bottom', fontsize=10)\n",
    "\n",
    "plt.title('Data Distribution', fontsize=16)\n",
    "plt.xlabel('Labels', fontsize=14)\n",
    "plt.ylabel('Counts', fontsize=14)\n",
    "plt.xticks(ha='right', fontsize=12)\n",
    "plt.yticks(fontsize=12)\n",
    "plt.tight_layout()\n",
    "plt.show()\n",
    "\n"
   ]
  },
  {
   "cell_type": "code",
   "execution_count": 20,
   "id": "de063f98-536e-4b4c-a566-e0bcbff54d5f",
   "metadata": {},
   "outputs": [],
   "source": [
    "from sklearn.model_selection import train_test_split\n",
    "from tensorflow.keras.utils import to_categorical\n",
    "\n",
    "Features = np.stack(df['Image'].values)\n",
    "Target = np.stack(df['Label'].values)\n",
    "x_train, x_test, y_train_o, y_test_o = train_test_split(Features, Target, test_size=0.2,random_state=666)\n",
    "y_train = to_categorical(y_train_o, num_classes = 2)\n",
    "y_test = to_categorical(y_test_o, num_classes = 2)"
   ]
  },
  {
   "cell_type": "code",
   "execution_count": 21,
   "id": "dc10f87c-0f3a-4855-a3ae-1b8af9a5fa07",
   "metadata": {},
   "outputs": [],
   "source": [
    "x_train = x_train.reshape(x_train.shape[0], *(256, 256, 3))\n",
    "x_test = x_test.reshape(x_test.shape[0], *(256, 256, 3))"
   ]
  },
  {
   "cell_type": "markdown",
   "id": "7970b0d2-58db-4c43-81f5-6de49bd7f2b2",
   "metadata": {},
   "source": [
    "## VGG19 Model"
   ]
  },
  {
   "cell_type": "code",
   "execution_count": 22,
   "id": "acd028aa-5ca8-4e3b-afbc-1e225abfaac3",
   "metadata": {},
   "outputs": [
    {
     "name": "stdout",
     "output_type": "stream",
     "text": [
      "Model: \"sequential_1\"\n",
      "_________________________________________________________________\n",
      " Layer (type)                Output Shape              Param #   \n",
      "=================================================================\n",
      " vgg19 (Functional)          (None, 8, 8, 512)         20024384  \n",
      "                                                                 \n",
      " flatten_1 (Flatten)         (None, 32768)             0         \n",
      "                                                                 \n",
      "=================================================================\n",
      "Total params: 20024384 (76.39 MB)\n",
      "Trainable params: 0 (0.00 Byte)\n",
      "Non-trainable params: 20024384 (76.39 MB)\n",
      "_________________________________________________________________\n"
     ]
    }
   ],
   "source": [
    "from tensorflow.keras.applications import VGG19\n",
    "from tensorflow.keras.models import Sequential\n",
    "from tensorflow.keras.layers import Dense, Flatten\n",
    "from tensorflow.keras.optimizers.legacy import Adam\n",
    "from tensorflow.keras.preprocessing.image import ImageDataGenerator\n",
    "\n",
    "from tensorflow.keras.layers import Flatten, Dense, BatchNormalization\n",
    "\n",
    "input_shape = (256, 256, 3)\n",
    "\n",
    "vgg19_model = VGG19(weights='imagenet', include_top=False, input_shape=input_shape)\n",
    "\n",
    "for layer in vgg19_model.layers:\n",
    "    layer.trainable = False\n",
    "\n",
    "model = Sequential()\n",
    "model.add(vgg19_model)\n",
    "model.add(Flatten())\n",
    "\n",
    "model.compile(optimizer=Adam(learning_rate=0.0001), loss='binary_crossentropy', metrics=['accuracy'])\n",
    "\n",
    "model.summary()\n"
   ]
  },
  {
   "cell_type": "code",
   "execution_count": 41,
   "id": "c056afb8-d59c-4a92-856f-e723c3cb6b48",
   "metadata": {},
   "outputs": [
    {
     "name": "stdout",
     "output_type": "stream",
     "text": [
      "100/100 [==============================] - 348s 3s/step\n",
      "25/25 [==============================] - 86s 3s/step\n"
     ]
    }
   ],
   "source": [
    "features = model.predict(x_train)\n",
    "x_test_features = model.predict(x_test)"
   ]
  },
  {
   "cell_type": "code",
   "execution_count": 42,
   "id": "cb047b92-b13d-4f74-856f-1af5d376d81c",
   "metadata": {},
   "outputs": [
    {
     "data": {
      "text/plain": [
       "[<matplotlib.lines.Line2D at 0x2c0a8cc50>]"
      ]
     },
     "execution_count": 42,
     "metadata": {},
     "output_type": "execute_result"
    },
    {
     "data": {
      "image/png": "[encoded data removed]",
      "text/plain": [
       "<Figure size 640x480 with 1 Axes>"
      ]
     },
     "metadata": {},
     "output_type": "display_data"
    }
   ],
   "source": [
    "features = features.reshape((features.shape[0], -1))\n",
    "x_test_features = x_test_features.reshape((x_test_features.shape[0], -1))\n",
    "plt.plot(features[311])"
   ]
  },
  {
   "cell_type": "markdown",
   "id": "7f5d589b-3035-4ff2-8f27-e0da20073360",
   "metadata": {},
   "source": [
    "## KNN with VGG19 Features"
   ]
  },
  {
   "cell_type": "code",
   "execution_count": 125,
   "id": "646df633-f2ce-47d2-af40-6d2d0cea901a",
   "metadata": {},
   "outputs": [
    {
     "name": "stdout",
     "output_type": "stream",
     "text": [
      "0.84875\n",
      "0.8376061763862356\n"
     ]
    },
    {
     "data": {
      "image/png": "[encoded data removed]",
      "text/plain": [
       "<Figure size 800x600 with 2 Axes>"
      ]
     },
     "metadata": {},
     "output_type": "display_data"
    }
   ],
   "source": [
    "from sklearn.neighbors import KNeighborsClassifier\n",
    "from sklearn.metrics import accuracy_score, f1_score\n",
    "from sklearn.metrics import confusion_matrix\n",
    "import seaborn as sns\n",
    "import matplotlib.pyplot as plt\n",
    "\n",
    "knn_model = KNeighborsClassifier(n_neighbors=1) \n",
    "knn_model.fit(features, y_train)\n",
    "y_pred = knn_model.predict(x_test_features)\n",
    "print(accuracy_score(y_test, y_pred))\n",
    "print(f1_score(y_test,y_pred,average=\"weighted\"))\n",
    "\n",
    "cm = confusion_matrix(np.argmax(y_test,axis=1),np.argmax(y_pred,axis=1))\n",
    "\n",
    "plt.figure(figsize=(8, 6))\n",
    "sns.heatmap(cm, annot=True, fmt='d', cmap='Blues')\n",
    "plt.show()"
   ]
  },
  {
   "cell_type": "markdown",
   "id": "896e2bab-170b-4cd2-b243-44dbc5296db3",
   "metadata": {},
   "source": [
    "## PCA - No use"
   ]
  },
  {
   "cell_type": "code",
   "execution_count": 18,
   "id": "538890c2-3ab8-4b3e-a2ee-91fc9ae36890",
   "metadata": {},
   "outputs": [],
   "source": [
    "# from sklearn.decomposition import PCA\n",
    "\n",
    "# n_components = 1000\n",
    "\n",
    "# pca = PCA(n_components=n_components)\n",
    "# features_pca = pca.fit_transform(features)\n",
    "# x_test_features_pca = pca.fit_transform(x_test_features)"
   ]
  },
  {
   "cell_type": "code",
   "execution_count": 19,
   "id": "35d5bb9a-6c1a-445e-9648-75b84c977848",
   "metadata": {},
   "outputs": [],
   "source": [
    "# knn_model = KNeighborsClassifier(n_neighbors=1) \n",
    "# knn_model.fit(features_pca, y_train)\n",
    "# y_pred = knn_model.predict(x_test_features_pca)\n",
    "# print(accuracy_score(y_test, y_pred))\n",
    "# print(f1_score(y_test,y_pred,average=\"weighted\"))"
   ]
  },
  {
   "cell_type": "code",
   "execution_count": 20,
   "id": "a68b5a1f-b9ed-45b5-8ca6-cea82fd8f49d",
   "metadata": {},
   "outputs": [],
   "source": [
    "# from sklearn.metrics import confusion_matrix\n",
    "# import seaborn as sns\n",
    "# import matplotlib.pyplot as plt\n",
    "\n",
    "# cm = confusion_matrix(np.argmax(y_test, axis=1), np.argmax(y_pred, axis=1))\n",
    "\n",
    "# plt.figure(figsize=(8, 6))\n",
    "# sns.heatmap(cm, annot=True, fmt='d', cmap='Blues')\n",
    "# plt.show()"
   ]
  },
  {
   "cell_type": "markdown",
   "id": "8a3644d4-de87-41ce-873b-51dd0a8b705f",
   "metadata": {},
   "source": [
    "## Kernal PCA"
   ]
  },
  {
   "cell_type": "code",
   "execution_count": 1,
   "id": "5226a385-1463-4736-b832-635957d37bd5",
   "metadata": {},
   "outputs": [],
   "source": [
    "# No use"
   ]
  },
  {
   "cell_type": "markdown",
   "id": "8357f0e7-e616-41c7-9b3b-c2bff12e3386",
   "metadata": {},
   "source": [
    "## Lasso Feature Selection"
   ]
  },
  {
   "cell_type": "code",
   "execution_count": 97,
   "id": "ee314d80-ecef-43b3-b5d4-c54a658dc9de",
   "metadata": {},
   "outputs": [],
   "source": [
    "from sklearn.preprocessing import StandardScaler\n",
    "\n",
    "scaler = StandardScaler()\n",
    "features_sc = scaler.fit_transform(features)\n",
    "x_test_features_sc = scaler.transform(x_test_features)"
   ]
  },
  {
   "cell_type": "code",
   "execution_count": 107,
   "id": "61d4cbfe-e427-4fc2-a1d6-1571fee8b1bb",
   "metadata": {},
   "outputs": [],
   "source": [
    "from sklearn.linear_model import Lasso\n",
    "\n",
    "alpha = 0.01 ## Increasing makes more features sparse\n",
    "lasso_model = Lasso(alpha=alpha)\n",
    "lasso_model.fit(features, y_train)\n",
    "klp = lasso_model.predict(x_test_features)"
   ]
  },
  {
   "cell_type": "code",
   "execution_count": 108,
   "id": "3807e8e2-3f31-4e2c-90c9-629344facb75",
   "metadata": {},
   "outputs": [],
   "source": [
    "Lasso_features = []\n",
    "for i in features:\n",
    "    Lasso_features.append(np.array(i[lasso_model.coef_[0] != 0]))\n",
    "Lasso_features = np.array(Lasso_features)\n",
    "\n",
    "Lasso_x_test_features = []\n",
    "for i in x_test_features:\n",
    "    Lasso_x_test_features.append(np.array(i[lasso_model.coef_[0] != 0]))\n",
    "Lasso_x_test_features = np.array(Lasso_x_test_features)"
   ]
  },
  {
   "cell_type": "code",
   "execution_count": 109,
   "id": "b5098eb7-82d4-46d1-8246-9a8afc469679",
   "metadata": {},
   "outputs": [
    {
     "name": "stdout",
     "output_type": "stream",
     "text": [
      "32768,1932\n"
     ]
    }
   ],
   "source": [
    "print(f'{len(features[0])},{len(Lasso_features[0])}')"
   ]
  },
  {
   "cell_type": "code",
   "execution_count": 128,
   "id": "d66840b2-4539-470a-b15d-6b5d0b7cc928",
   "metadata": {},
   "outputs": [
    {
     "name": "stdout",
     "output_type": "stream",
     "text": [
      "0.845\n",
      "0.8292352018895971\n"
     ]
    },
    {
     "data": {
      "image/png": "[encoded data removed]",
      "text/plain": [
       "<Figure size 800x600 with 2 Axes>"
      ]
     },
     "metadata": {},
     "output_type": "display_data"
    }
   ],
   "source": [
    "knn_model = KNeighborsClassifier(n_neighbors=1) \n",
    "knn_model.fit(Lasso_features, y_train)\n",
    "y_pred = knn_model.predict(Lasso_x_test_features)\n",
    "print(accuracy_score(y_test, y_pred))\n",
    "print(f1_score(y_test,y_pred,average=\"weighted\"))\n",
    "\n",
    "cm = confusion_matrix(np.argmax(y_test, axis=1), np.argmax(y_pred, axis=1))\n",
    "\n",
    "plt.figure(figsize=(8, 6))\n",
    "sns.heatmap(cm, annot=True, fmt='d', cmap='Blues')\n",
    "plt.show()"
   ]
  },
  {
   "cell_type": "markdown",
   "id": "d7111168-666d-4c88-983e-748a543e0045",
   "metadata": {},
   "source": [
    "## ElasticNet Features"
   ]
  },
  {
   "cell_type": "code",
   "execution_count": 130,
   "id": "6ac39d13-bdf2-48ef-81fa-8dc0caec26df",
   "metadata": {},
   "outputs": [
    {
     "name": "stderr",
     "output_type": "stream",
     "text": [
      "/Users/harishneelam/anaconda3/lib/python3.11/site-packages/sklearn/linear_model/_coordinate_descent.py:628: ConvergenceWarning: Objective did not converge. You might want to increase the number of iterations, check the scale of the features or consider increasing regularisation. Duality gap: 1.006e-01, tolerance: 2.767e-02\n",
      "  model = cd_fast.enet_coordinate_descent(\n",
      "/Users/harishneelam/anaconda3/lib/python3.11/site-packages/sklearn/linear_model/_coordinate_descent.py:628: ConvergenceWarning: Objective did not converge. You might want to increase the number of iterations, check the scale of the features or consider increasing regularisation. Duality gap: 1.001e-01, tolerance: 2.767e-02\n",
      "  model = cd_fast.enet_coordinate_descent(\n"
     ]
    },
    {
     "data": {
      "text/html": [
       "<style>#sk-container-id-1 {color: black;}#sk-container-id-1 pre{padding: 0;}#sk-container-id-1 div.sk-toggleable {background-color: white;}#sk-container-id-1 label.sk-toggleable__label {cursor: pointer;display: block;width: 100%;margin-bottom: 0;padding: 0.3em;box-sizing: border-box;text-align: center;}#sk-container-id-1 label.sk-toggleable__label-arrow:before {content: \"▸\";float: left;margin-right: 0.25em;color: #696969;}#sk-container-id-1 label.sk-toggleable__label-arrow:hover:before {color: black;}#sk-container-id-1 div.sk-estimator:hover label.sk-toggleable__label-arrow:before {color: black;}#sk-container-id-1 div.sk-toggleable__content {max-height: 0;max-width: 0;overflow: hidden;text-align: left;background-color: #f0f8ff;}#sk-container-id-1 div.sk-toggleable__content pre {margin: 0.2em;color: black;border-radius: 0.25em;background-color: #f0f8ff;}#sk-container-id-1 input.sk-toggleable__control:checked~div.sk-toggleable__content {max-height: 200px;max-width: 100%;overflow: auto;}#sk-container-id-1 input.sk-toggleable__control:checked~label.sk-toggleable__label-arrow:before {content: \"▾\";}#sk-container-id-1 div.sk-estimator input.sk-toggleable__control:checked~label.sk-toggleable__label {background-color: #d4ebff;}#sk-container-id-1 div.sk-label input.sk-toggleable__control:checked~label.sk-toggleable__label {background-color: #d4ebff;}#sk-container-id-1 input.sk-hidden--visually {border: 0;clip: rect(1px 1px 1px 1px);clip: rect(1px, 1px, 1px, 1px);height: 1px;margin: -1px;overflow: hidden;padding: 0;position: absolute;width: 1px;}#sk-container-id-1 div.sk-estimator {font-family: monospace;background-color: #f0f8ff;border: 1px dotted black;border-radius: 0.25em;box-sizing: border-box;margin-bottom: 0.5em;}#sk-container-id-1 div.sk-estimator:hover {background-color: #d4ebff;}#sk-container-id-1 div.sk-parallel-item::after {content: \"\";width: 100%;border-bottom: 1px solid gray;flex-grow: 1;}#sk-container-id-1 div.sk-label:hover label.sk-toggleable__label {background-color: #d4ebff;}#sk-container-id-1 div.sk-serial::before {content: \"\";position: absolute;border-left: 1px solid gray;box-sizing: border-box;top: 0;bottom: 0;left: 50%;z-index: 0;}#sk-container-id-1 div.sk-serial {display: flex;flex-direction: column;align-items: center;background-color: white;padding-right: 0.2em;padding-left: 0.2em;position: relative;}#sk-container-id-1 div.sk-item {position: relative;z-index: 1;}#sk-container-id-1 div.sk-parallel {display: flex;align-items: stretch;justify-content: center;background-color: white;position: relative;}#sk-container-id-1 div.sk-item::before, #sk-container-id-1 div.sk-parallel-item::before {content: \"\";position: absolute;border-left: 1px solid gray;box-sizing: border-box;top: 0;bottom: 0;left: 50%;z-index: -1;}#sk-container-id-1 div.sk-parallel-item {display: flex;flex-direction: column;z-index: 1;position: relative;background-color: white;}#sk-container-id-1 div.sk-parallel-item:first-child::after {align-self: flex-end;width: 50%;}#sk-container-id-1 div.sk-parallel-item:last-child::after {align-self: flex-start;width: 50%;}#sk-container-id-1 div.sk-parallel-item:only-child::after {width: 0;}#sk-container-id-1 div.sk-dashed-wrapped {border: 1px dashed gray;margin: 0 0.4em 0.5em 0.4em;box-sizing: border-box;padding-bottom: 0.4em;background-color: white;}#sk-container-id-1 div.sk-label label {font-family: monospace;font-weight: bold;display: inline-block;line-height: 1.2em;}#sk-container-id-1 div.sk-label-container {text-align: center;}#sk-container-id-1 div.sk-container {/* jupyter's `normalize.less` sets `[hidden] { display: none; }` but bootstrap.min.css set `[hidden] { display: none !important; }` so we also need the `!important` here to be able to override the default hidden behavior on the sphinx rendered scikit-learn.org. See: https://github.com/scikit-learn/scikit-learn/issues/21755 */display: inline-block !important;position: relative;}#sk-container-id-1 div.sk-text-repr-fallback {display: none;}</style><div id=\"sk-container-id-1\" class=\"sk-top-container\"><div class=\"sk-text-repr-fallback\"><pre>ElasticNet(alpha=0.01)</pre><b>In a Jupyter environment, please rerun this cell to show the HTML representation or trust the notebook. <br />On GitHub, the HTML representation is unable to render, please try loading this page with nbviewer.org.</b></div><div class=\"sk-container\" hidden><div class=\"sk-item\"><div class=\"sk-estimator sk-toggleable\"><input class=\"sk-toggleable__control sk-hidden--visually\" id=\"sk-estimator-id-1\" type=\"checkbox\" checked><label for=\"sk-estimator-id-1\" class=\"sk-toggleable__label sk-toggleable__label-arrow\">ElasticNet</label><div class=\"sk-toggleable__content\"><pre>ElasticNet(alpha=0.01)</pre></div></div></div></div></div>"
      ],
      "text/plain": [
       "ElasticNet(alpha=0.01)"
      ]
     },
     "execution_count": 130,
     "metadata": {},
     "output_type": "execute_result"
    }
   ],
   "source": [
    "from sklearn.linear_model import ElasticNet\n",
    "alpha = 0.01\n",
    "l1_ratio = 0.5\n",
    "\n",
    "elastic_net_model = ElasticNet(alpha=alpha, l1_ratio=l1_ratio)\n",
    "elastic_net_model.fit(features, y_train)"
   ]
  },
  {
   "cell_type": "code",
   "execution_count": 131,
   "id": "28856b4a-2dbd-448a-b767-827ee8f5b1e6",
   "metadata": {},
   "outputs": [],
   "source": [
    "EN_features = []\n",
    "for i in features:\n",
    "    EN_features.append(np.array(i[elastic_net_model.coef_[0] != 0]))\n",
    "EN_features = np.array(EN_features)\n",
    "\n",
    "EN_x_test_features = []\n",
    "for i in x_test_features:\n",
    "    EN_x_test_features.append(np.array(i[elastic_net_model.coef_[0] != 0]))\n",
    "EN_x_test_features = np.array(EN_x_test_features)"
   ]
  },
  {
   "cell_type": "code",
   "execution_count": 134,
   "id": "c713377e-35a4-42d5-afd9-6b8f16d0bfba",
   "metadata": {},
   "outputs": [
    {
     "name": "stdout",
     "output_type": "stream",
     "text": [
      "0.85125\n",
      "0.8354861335342446\n"
     ]
    },
    {
     "data": {
      "image/png": "[encoded data removed]",
      "text/plain": [
       "<Figure size 800x600 with 2 Axes>"
      ]
     },
     "metadata": {},
     "output_type": "display_data"
    }
   ],
   "source": [
    "knn_model = KNeighborsClassifier(n_neighbors=1) \n",
    "knn_model.fit(EN_features, y_train)\n",
    "y_pred = knn_model.predict(EN_x_test_features)\n",
    "print(accuracy_score(y_test, y_pred))\n",
    "print(f1_score(y_test,y_pred,average=\"weighted\"))\n",
    "\n",
    "cm = confusion_matrix(np.argmax(y_test, axis=1), np.argmax(y_pred, axis=1))\n",
    "\n",
    "plt.figure(figsize=(8, 6))\n",
    "sns.heatmap(cm, annot=True, fmt='d', cmap='Blues')\n",
    "plt.show()"
   ]
  },
  {
   "cell_type": "markdown",
   "id": "3b88da82-3888-45f3-870f-60a710e77793",
   "metadata": {},
   "source": [
    "## Convex Optimization - Proximal Gradient method"
   ]
  },
  {
   "cell_type": "code",
   "execution_count": 189,
   "id": "b3e1401c-83f8-45c1-8791-e21498420065",
   "metadata": {},
   "outputs": [
    {
     "name": "stdout",
     "output_type": "stream",
     "text": [
      "RUNNING THE L-BFGS-B CODE\n",
      "\n",
      "           * * *\n",
      "\n",
      "Machine precision = 2.220D-16\n",
      " N =         1932     M =           10\n",
      "\n",
      "At X0         0 variables are exactly at the bounds\n",
      "\n",
      "At iterate    0    f=  1.44700D+03    |proj g|=  1.88112D+05\n"
     ]
    },
    {
     "name": "stderr",
     "output_type": "stream",
     "text": [
      " This problem is unconstrained.\n"
     ]
    },
    {
     "name": "stdout",
     "output_type": "stream",
     "text": [
      "\n",
      "At iterate    1    f=  1.59124D+02    |proj g|=  2.73429D+03\n",
      "\n",
      "At iterate    2    f=  1.51856D+02    |proj g|=  1.85325D+03\n",
      "\n",
      "At iterate    3    f=  1.34369D+02    |proj g|=  1.29386D+03\n",
      "\n",
      "At iterate    4    f=  1.27708D+02    |proj g|=  2.30517D+03\n",
      "\n",
      "           * * *\n",
      "\n",
      "Tit   = total number of iterations\n",
      "Tnf   = total number of function evaluations\n",
      "Tnint = total number of segments explored during Cauchy searches\n",
      "Skip  = number of BFGS updates skipped\n",
      "Nact  = number of active bounds at final generalized Cauchy point\n",
      "Projg = norm of the final projected gradient\n",
      "F     = final function value\n",
      "\n",
      "           * * *\n",
      "\n",
      "   N    Tit     Tnf  Tnint  Skip  Nact     Projg        F\n",
      " 1932      4      8      1     0     0   2.305D+03   1.277D+02\n",
      "  F =   127.70795357364629     \n",
      "\n",
      "STOP: TOTAL NO. of f AND g EVALUATIONS EXCEEDS LIMIT        \n"
     ]
    }
   ],
   "source": [
    "from scipy.optimize import minimize\n",
    "\n",
    "def objective_function(x, A, b, lambd):\n",
    "    return 0.5 * np.linalg.norm(A @ x - b)**2 + lambd * np.linalg.norm(x, 1)\n",
    "\n",
    "def proximal_gradient_descent_scipy(A, b, lambd, x0, max_iter=10, tol=1e-4):\n",
    "    result = minimize(\n",
    "        fun=objective_function,\n",
    "        x0=x0,\n",
    "        args=(A, b, lambd),\n",
    "        method='L-BFGS-B',  \n",
    "        options={'maxiter': max_iter, 'disp': True}\n",
    "    )\n",
    "\n",
    "    return result.x\n",
    "\n",
    "A = np.matrix(Lasso_features)\n",
    "b = np.matrix(np.argmax(y_train, axis=1))\n",
    "\n",
    "resulting_coefficients = proximal_gradient_descent_scipy(A, b, lambd=0.05, x0=np.zeros(A.shape[1]))"
   ]
  },
  {
   "cell_type": "code",
   "execution_count": 190,
   "id": "7265ef26-788e-401e-8bfb-10d5efe8cdf6",
   "metadata": {},
   "outputs": [
    {
     "data": {
      "text/plain": [
       "1203"
      ]
     },
     "execution_count": 190,
     "metadata": {},
     "output_type": "execute_result"
    }
   ],
   "source": [
    "rc = np.round(resulting_coefficients,4)\n",
    "sum(rc!=0)"
   ]
  },
  {
   "cell_type": "code",
   "execution_count": 191,
   "id": "e709eaf5-e816-4861-8220-ee98d0c91de4",
   "metadata": {},
   "outputs": [],
   "source": [
    "PGD_features = []\n",
    "for i in Lasso_features:\n",
    "    PGD_features.append(np.array(i[rc != 0]))\n",
    "PGD_features = np.array(PGD_features)\n",
    "\n",
    "PGD_x_test_features = []\n",
    "for i in Lasso_x_test_features:\n",
    "    PGD_x_test_features.append(np.array(i[rc != 0]))\n",
    "PGD_x_test_features = np.array(PGD_x_test_features)"
   ]
  },
  {
   "cell_type": "code",
   "execution_count": 192,
   "id": "0823d462-ce53-42e0-a279-f6021c167113",
   "metadata": {},
   "outputs": [
    {
     "name": "stdout",
     "output_type": "stream",
     "text": [
      "0.82875\n",
      "0.8210151989602172\n"
     ]
    },
    {
     "data": {
      "image/png": "[encoded data removed]",
      "text/plain": [
       "<Figure size 800x600 with 2 Axes>"
      ]
     },
     "metadata": {},
     "output_type": "display_data"
    }
   ],
   "source": [
    "knn_model = KNeighborsClassifier(n_neighbors=1) \n",
    "knn_model.fit(PGD_features, y_train)\n",
    "y_pred = knn_model.predict(PGD_x_test_features)\n",
    "print(accuracy_score(y_test, y_pred))\n",
    "print(f1_score(y_test,y_pred,average=\"weighted\"))\n",
    "\n",
    "cm = confusion_matrix(np.argmax(y_test, axis=1), np.argmax(y_pred, axis=1))\n",
    "\n",
    "plt.figure(figsize=(8, 6))\n",
    "sns.heatmap(cm, annot=True, fmt='d', cmap='Blues')\n",
    "plt.show()"
   ]
  },
  {
   "cell_type": "markdown",
   "id": "743daf20-90d3-486c-8bce-88f425914b57",
   "metadata": {},
   "source": [
    "## Anomaly Detection"
   ]
  },
  {
   "cell_type": "code",
   "execution_count": 198,
   "id": "2802ac36-c66b-44a3-8a3c-3763fac73f0b",
   "metadata": {},
   "outputs": [
    {
     "name": "stdout",
     "output_type": "stream",
     "text": [
      "0.82875\n",
      "0.8210151989602172\n"
     ]
    }
   ],
   "source": [
    "from sklearn import svm\n",
    "\n",
    "svc = svm.OneClassSVM(nu=0.01, kernel='rbf', gamma=0.1)\n",
    "\n",
    "svc.fit(Lasso_features)\n",
    "test_predictions = svc.predict(Lasso_x_test_features)\n",
    "\n",
    "print(accuracy_score(y_test, y_pred))\n",
    "print(f1_score(y_test,y_pred,average=\"weighted\"))"
   ]
  },
  {
   "cell_type": "code",
   "execution_count": 199,
   "id": "893ac0d0-cefb-4bee-868d-6106429fbf4d",
   "metadata": {},
   "outputs": [
    {
     "data": {
      "text/plain": [
       "(array([-1]), array([800]))"
      ]
     },
     "execution_count": 199,
     "metadata": {},
     "output_type": "execute_result"
    }
   ],
   "source": [
    "np.unique(test_predictions,return_counts=True)"
   ]
  }
 ],
 "metadata": {
  "kernelspec": {
   "display_name": "Python 3 (ipykernel)",
   "language": "python",
   "name": "python3"
  },
  "language_info": {
   "codemirror_mode": {
    "name": "ipython",
    "version": 3
   },
   "file_extension": ".py",
   "mimetype": "text/x-python",
   "name": "python",
   "nbconvert_exporter": "python",
   "pygments_lexer": "ipython3",
   "version": "3.11.5"
  }
 },
 "nbformat": 4,
 "nbformat_minor": 5
}
